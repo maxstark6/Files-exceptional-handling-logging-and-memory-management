{
  "nbformat": 4,
  "nbformat_minor": 0,
  "metadata": {
    "colab": {
      "provenance": []
    },
    "kernelspec": {
      "name": "python3",
      "display_name": "Python 3"
    },
    "language_info": {
      "name": "python"
    }
  },
  "cells": [
    {
      "cell_type": "markdown",
      "source": [
        "Q.1 What is the difference between interpreted and compiled languages?\n",
        "- Interpreted languages  run the code line by line, which makes them easier to test and debug.\n",
        "- Compiled languages convert the whole code into machine code before running it, so they generally run faster.\n"
      ],
      "metadata": {
        "id": "eAHdqRpRCZl2"
      }
    },
    {
      "cell_type": "markdown",
      "source": [
        "Q.3 What is the purpose of the finally block in exception handling?\n",
        "- The finally block is used when we want to make sure some code always runs, whether there's an error or not\n"
      ],
      "metadata": {
        "id": "p18SRgx_CiuT"
      }
    },
    {
      "cell_type": "markdown",
      "source": [
        "Q.4 What is logging in Python?\n",
        "- Logging is a built-in way to keep track of what happens in a program, like errors or important events, which is very helpful for debugging and monitoring.\n"
      ],
      "metadata": {
        "id": "aijQAzVXC0Zs"
      }
    },
    {
      "cell_type": "markdown",
      "source": [
        "Q.5 What is the significance of the __del__ method in Python?\n",
        "- The __del__ method is like a destructor. It gets called automatically when an object is deleted, and we can use it to free up resources or print a message."
      ],
      "metadata": {
        "id": "RufLWVuKC7GH"
      }
    },
    {
      "cell_type": "markdown",
      "source": [
        "Q.6 What is the difference between import and from ... import in Python?\n",
        "- When we use import module, we bring in the whole module and use its functions with the module name.\n",
        "- But with from .... import , we can directly use that specific function without typing the module name.\n"
      ],
      "metadata": {
        "id": "yx-IS6oDDAq1"
      }
    },
    {
      "cell_type": "markdown",
      "source": [
        "Q.7 How can you handle multiple exceptions in Python?\n",
        "- We can handle different errors using multiple except blocks, or group them in one line using a tuple, depending on what we want to catch.\n"
      ],
      "metadata": {
        "id": "F57RXvx8DpNe"
      }
    },
    {
      "cell_type": "markdown",
      "source": [
        "Q.8 What is the purpose of the with statement when handling files in Python?\n",
        "- The with statement is used to open files safely. It automatically closes the file when we’re done, even if an error occurs in between.\n"
      ],
      "metadata": {
        "id": "W9lNlYGVDw7B"
      }
    },
    {
      "cell_type": "markdown",
      "source": [
        "Q.9 What is the difference between multithreading and multiprocessing?\n",
        "- Multithreading runs different parts of a program at the same time using threads, good for I/O tasks.\n",
        "- Multiprocessing uses multiple CPU cores to run separate processes, which is better for tasks that need more computing power.\n"
      ],
      "metadata": {
        "id": "1tfDXrg_D8rg"
      }
    },
    {
      "cell_type": "markdown",
      "source": [
        "Q.10 What are the advantages of using logging in a program?\n",
        "- Logging helps keep a record of what's going on in the program. It’s useful for debugging, tracking errors, and understanding how the program behaves over time.\n"
      ],
      "metadata": {
        "id": "0mFV1hptECPv"
      }
    },
    {
      "cell_type": "markdown",
      "source": [
        "Q.11 What is memory management in Python?\n",
        "- Memory management is how Python handles memory allocation and cleanup. It uses automatic garbage collection to free memory that’s no longer needed.\n"
      ],
      "metadata": {
        "id": "uWyjPHPfEJuB"
      }
    },
    {
      "cell_type": "markdown",
      "source": [
        "Q.12 What are the basic steps involved in exception handling in Python?\n",
        "- First, we use a try block for the risky code. Then we use except to handle any error. Optionally, we can use else to run code if no error happens and finally to clean up.\n"
      ],
      "metadata": {
        "id": "Dcniho0XEOAn"
      }
    },
    {
      "cell_type": "markdown",
      "source": [
        "Q.13 Why is memory management important in Python?\n",
        "- Good memory management helps keep our programs fast and efficient. It also prevents memory leaks, which can slow things down or crash the program.\n"
      ],
      "metadata": {
        "id": "khjgwzGiEUpL"
      }
    },
    {
      "cell_type": "markdown",
      "source": [
        "Q.14 What is the role of try and except in exception handling?\n",
        "- The try block is where we put code that might throw an error. The except block catches the error and prevents the program from crashing.\n"
      ],
      "metadata": {
        "id": "qIfKOgAOEZUn"
      }
    },
    {
      "cell_type": "markdown",
      "source": [
        "Q.15 How does Python's garbage collection system work?\n",
        "- Python automatically tracks objects and their references. When an object is no longer used, the garbage collector removes it from memory to keep things efficient.\n"
      ],
      "metadata": {
        "id": "sUJSmiqaEdqD"
      }
    },
    {
      "cell_type": "markdown",
      "source": [
        "Q.16 What is the purpose of the else block in exception handling?\n",
        "- The else block is used to write code that should only run if no error occurs in the try block.\n"
      ],
      "metadata": {
        "id": "nXdZhWrTEgpM"
      }
    },
    {
      "cell_type": "markdown",
      "source": [
        "Q.18 What is the difference between os.fork() and multiprocessing in Python?\n",
        "- os.fork() is a low-level method for creating new processes. The multiprocessing module is cross-platform and gives us a simpler way to run parallel code.\n"
      ],
      "metadata": {
        "id": "-BxAvxRXEqus"
      }
    },
    {
      "cell_type": "markdown",
      "source": [
        "Q.19 What is the importance of closing a file in Python?\n",
        "- Closing a file is important to make sure data is saved properly and system resources are released.\n"
      ],
      "metadata": {
        "id": "-K3OMd0aE1QW"
      }
    },
    {
      "cell_type": "markdown",
      "source": [
        "Q.20 What is the difference between file.read() and file.readline() in Python?\n",
        "- file.read() reads the whole file at once, while file.readline() only reads one line at a time, which is better for large files.\n"
      ],
      "metadata": {
        "id": "wSNU-ihfE5cf"
      }
    },
    {
      "cell_type": "markdown",
      "source": [
        "Q.21 What is the logging module in Python used for?\n",
        "- The logging module is used to record messages from a program — like errors, info, or debug messages — either on the screen or in a file.\n"
      ],
      "metadata": {
        "id": "Jvg3ZXKNE_JU"
      }
    },
    {
      "cell_type": "markdown",
      "source": [
        "Q.22 What is the os module in Python used for in file handling?\n",
        "- The os module helps us interact with the operating system. We can check if a file exists, delete files, create folders, and more.\n"
      ],
      "metadata": {
        "id": "boCPJpgrFCQC"
      }
    },
    {
      "cell_type": "markdown",
      "source": [
        "Q.23 What are the challenges associated with memory management in Python?\n",
        "- Some challenges include dealing with circular references, managing large datasets, and making sure objects are properly cleaned up when no longer needed.\n"
      ],
      "metadata": {
        "id": "-bRlrJ5lFEws"
      }
    },
    {
      "cell_type": "markdown",
      "source": [
        "Q.24 How do you raise an exception manually in Python?\n",
        "- In Python, we can raise an exception manually using the raise keyword. For example, if we want to stop the program when a condition isn't met, we can write raise ValueError(\"Invalid input\"). This helps us control the flow of the program and catch specific problems.\n"
      ],
      "metadata": {
        "id": "JwsQthCeFQ2h"
      }
    },
    {
      "cell_type": "markdown",
      "source": [
        "Q.25 Why is it important to use multithreading in certain applications?\n",
        "- Multithreading is useful when a program needs to do many tasks at the same time, like downloading files while still letting the user interact with the interface. It helps improve performance, especially in I/O-bound programs, by allowing one thread to run while another is waiting.\n"
      ],
      "metadata": {
        "id": "pVz3yAUiFdg4"
      }
    },
    {
      "cell_type": "code",
      "execution_count": 1,
      "metadata": {
        "id": "iIcbtIDOB4wR"
      },
      "outputs": [],
      "source": [
        "#Q.1 How can you open a file for writing in Python and write a string to it\n",
        "with open(\"example.txt\", \"w\") as file:\n",
        "    file.write(\"Hello, this is a test string.\")\n"
      ]
    },
    {
      "cell_type": "code",
      "source": [
        "#Q.2 Write a Python program to read the contents of a file and print each line\n",
        "with open(\"example.txt\", \"r\") as file:\n",
        "    for line in file:\n",
        "        print(line.strip())\n"
      ],
      "metadata": {
        "colab": {
          "base_uri": "https://localhost:8080/"
        },
        "id": "qw0Q5HydEj0U",
        "outputId": "7b26a7ad-54af-487c-ee0e-611b2213bff1"
      },
      "execution_count": 2,
      "outputs": [
        {
          "output_type": "stream",
          "name": "stdout",
          "text": [
            "Hello, this is a test string.\n"
          ]
        }
      ]
    },
    {
      "cell_type": "code",
      "source": [
        "#Q.3 How would you handle a case where the file doesn't exist while trying to open it for reading\n",
        "try:\n",
        "    with open(\"nofile.txt\", \"r\") as file:\n",
        "        print(file.read())\n",
        "except FileNotFoundError:\n",
        "    print(\"File not found!\")\n"
      ],
      "metadata": {
        "colab": {
          "base_uri": "https://localhost:8080/"
        },
        "id": "od1KOzbzEt00",
        "outputId": "28db8fea-c714-4e92-cc12-39b8529a2931"
      },
      "execution_count": 3,
      "outputs": [
        {
          "output_type": "stream",
          "name": "stdout",
          "text": [
            "File not found!\n"
          ]
        }
      ]
    },
    {
      "cell_type": "code",
      "source": [
        "#Q.4 Write a Python script that reads from one file and writes its content to another file\n",
        "with open(\"example.txt\", \"r\") as src, open(\"copy.txt\", \"w\") as dst:\n",
        "    dst.write(src.read())\n"
      ],
      "metadata": {
        "id": "z2ClEXE4FuP2"
      },
      "execution_count": 4,
      "outputs": []
    },
    {
      "cell_type": "code",
      "source": [
        "#Q.5 How would you catch and handle division by zero error in Python\n",
        "try:\n",
        "    x = 10 / 0\n",
        "except ZeroDivisionError:\n",
        "    print(\"You can't divide by zero!\")\n"
      ],
      "metadata": {
        "colab": {
          "base_uri": "https://localhost:8080/"
        },
        "id": "-NFD-3ZhGcT-",
        "outputId": "a5fa59cb-e849-4288-be33-42b5cd27ff87"
      },
      "execution_count": 5,
      "outputs": [
        {
          "output_type": "stream",
          "name": "stdout",
          "text": [
            "You can't divide by zero!\n"
          ]
        }
      ]
    },
    {
      "cell_type": "code",
      "source": [
        "#Q.6 Write a Python program that logs an error message to a log file when a division by zero exception occurs\n",
        "import logging\n",
        "logging.basicConfig(filename=\"error_log.txt\", level=logging.ERROR)\n",
        "\n",
        "try:\n",
        "    x = 10 / 0\n",
        "except ZeroDivisionError as e:\n",
        "    logging.error(\"Division by zero occurred: %s\", e)\n"
      ],
      "metadata": {
        "colab": {
          "base_uri": "https://localhost:8080/"
        },
        "id": "Wx7Y-CbFGhOM",
        "outputId": "79c36166-17cd-4227-ebf8-1a15387bc20f"
      },
      "execution_count": 6,
      "outputs": [
        {
          "output_type": "stream",
          "name": "stderr",
          "text": [
            "ERROR:root:Division by zero occurred: division by zero\n"
          ]
        }
      ]
    },
    {
      "cell_type": "code",
      "source": [
        "#Q.7 How do you log information at different levels (INFO, ERROR, WARNING) in Python using the logging module\n",
        "import logging\n",
        "logging.basicConfig(level=logging.DEBUG)\n",
        "logging.info(\"This is an info message\")\n",
        "logging.warning(\"This is a warning\")\n",
        "logging.error(\"This is an error\")\n"
      ],
      "metadata": {
        "colab": {
          "base_uri": "https://localhost:8080/"
        },
        "id": "tuCSSfm-Gn4q",
        "outputId": "e991d67e-2bd4-4c95-b001-e9562ebb84c7"
      },
      "execution_count": 7,
      "outputs": [
        {
          "output_type": "stream",
          "name": "stderr",
          "text": [
            "WARNING:root:This is a warning\n",
            "ERROR:root:This is an error\n"
          ]
        }
      ]
    },
    {
      "cell_type": "code",
      "source": [
        "#Q.8 Write a program to handle a file opening error using exception handling\n",
        "try:\n",
        "    with open(\"nonexistent.txt\", \"r\") as f:\n",
        "        print(f.read())\n",
        "except IOError:\n",
        "    print(\"Error opening file!\")\n"
      ],
      "metadata": {
        "colab": {
          "base_uri": "https://localhost:8080/"
        },
        "id": "aKfJIBCTH4YB",
        "outputId": "418ec654-8e89-4c57-963c-d178d3f10423"
      },
      "execution_count": 8,
      "outputs": [
        {
          "output_type": "stream",
          "name": "stdout",
          "text": [
            "Error opening file!\n"
          ]
        }
      ]
    },
    {
      "cell_type": "code",
      "source": [
        "#Q.9 How can you read a file line by line and store its content in a list in Python\n",
        "with open(\"example.txt\", \"r\") as f:\n",
        "    lines = f.readlines()\n",
        "print(lines)\n"
      ],
      "metadata": {
        "colab": {
          "base_uri": "https://localhost:8080/"
        },
        "id": "jidGkk2bIfXY",
        "outputId": "18b86962-5d0c-40fa-d5e0-2885d623fd69"
      },
      "execution_count": 9,
      "outputs": [
        {
          "output_type": "stream",
          "name": "stdout",
          "text": [
            "['Hello, this is a test string.']\n"
          ]
        }
      ]
    },
    {
      "cell_type": "code",
      "source": [
        "#Q.10 How can you append data to an existing file in Python\n",
        "with open(\"example.txt\", \"a\") as f:\n",
        "    f.write(\"\\nAppended line.\")\n"
      ],
      "metadata": {
        "id": "20dCpAk-IhJc"
      },
      "execution_count": 10,
      "outputs": []
    },
    {
      "cell_type": "code",
      "source": [
        "#Q.11 Write a Python program that uses a try-except block to handle an error when attempting to access a dictionary key that doesn't exist\n",
        "my_dict = {\"name\": \"John\"}\n",
        "try:\n",
        "    print(my_dict[\"age\"])\n",
        "except KeyError:\n",
        "    print(\"Key not found!\")\n"
      ],
      "metadata": {
        "colab": {
          "base_uri": "https://localhost:8080/"
        },
        "id": "EokffGXnIjMA",
        "outputId": "f812c0fa-b9ba-4541-e7f1-fd30923f8c40"
      },
      "execution_count": 11,
      "outputs": [
        {
          "output_type": "stream",
          "name": "stdout",
          "text": [
            "Key not found!\n"
          ]
        }
      ]
    },
    {
      "cell_type": "code",
      "source": [
        "#Q.12 Write a program that demonstrates using multiple except blocks to handle different types of exceptions\n",
        "try:\n",
        "    num = int(\"abc\")\n",
        "    result = 10 / 0\n",
        "except ValueError:\n",
        "    print(\"Invalid value!\")\n",
        "except ZeroDivisionError:\n",
        "    print(\"Cannot divide by zero!\")\n"
      ],
      "metadata": {
        "colab": {
          "base_uri": "https://localhost:8080/"
        },
        "id": "ey7ACqcRIl1X",
        "outputId": "f575c678-91b5-4891-c02e-9630c9c6d52a"
      },
      "execution_count": 12,
      "outputs": [
        {
          "output_type": "stream",
          "name": "stdout",
          "text": [
            "Invalid value!\n"
          ]
        }
      ]
    },
    {
      "cell_type": "code",
      "source": [
        "#Q.13 How would you check if a file exists before attempting to read it in Python\n",
        "import os\n",
        "if os.path.exists(\"example.txt\"):\n",
        "    with open(\"example.txt\", \"r\") as f:\n",
        "        print(f.read())\n",
        "else:\n",
        "    print(\"File does not exist!\")\n",
        "\n"
      ],
      "metadata": {
        "colab": {
          "base_uri": "https://localhost:8080/"
        },
        "id": "Z9kaghZ0IrUp",
        "outputId": "9b30515e-44a6-444d-e8bd-27ebbd5798ee"
      },
      "execution_count": 13,
      "outputs": [
        {
          "output_type": "stream",
          "name": "stdout",
          "text": [
            "Hello, this is a test string.\n",
            "Appended line.\n"
          ]
        }
      ]
    },
    {
      "cell_type": "code",
      "source": [
        "#Q.14 Write a program that uses the logging module to log both informational and error messages\n",
        "import logging\n",
        "logging.basicConfig(filename=\"logfile.txt\", level=logging.DEBUG)\n",
        "logging.info(\"Program started\")\n",
        "try:\n",
        "    10 / 0\n",
        "except ZeroDivisionError as e:\n",
        "    logging.error(\"Error: %s\", e)\n"
      ],
      "metadata": {
        "colab": {
          "base_uri": "https://localhost:8080/"
        },
        "id": "c65W_TMmIt_T",
        "outputId": "9b5d2983-bc26-4f23-f04b-1843e01690cd"
      },
      "execution_count": 14,
      "outputs": [
        {
          "output_type": "stream",
          "name": "stderr",
          "text": [
            "ERROR:root:Error: division by zero\n"
          ]
        }
      ]
    },
    {
      "cell_type": "code",
      "source": [
        "#Q.15 Write a Python program that prints the content of a file and handles the case when the file is empty\n",
        "filename = \"example.txt\"\n",
        "with open(filename, \"r\") as f:\n",
        "    content = f.read()\n",
        "    if not content:\n",
        "        print(\"File is empty\")\n",
        "    else:\n",
        "        print(content)\n"
      ],
      "metadata": {
        "colab": {
          "base_uri": "https://localhost:8080/"
        },
        "id": "qCdSmsZcIxW8",
        "outputId": "636239f7-64a9-4c83-86f3-3be084bfe394"
      },
      "execution_count": 15,
      "outputs": [
        {
          "output_type": "stream",
          "name": "stdout",
          "text": [
            "Hello, this is a test string.\n",
            "Appended line.\n"
          ]
        }
      ]
    },
    {
      "cell_type": "code",
      "source": [
        "#Q.16 Demonstrate how to use memory profiling to check the memory usage of a small program\n",
        "!pip install memory_profiler\n",
        "from memory_profiler import profile\n",
        "\n",
        "@profile\n",
        "def test():\n",
        "    a = [i for i in range(10000)]\n",
        "    return a\n",
        "\n",
        "test()\n"
      ],
      "metadata": {
        "colab": {
          "base_uri": "https://localhost:8080/"
        },
        "id": "lPpZlZdPI9pg",
        "outputId": "f4b6c56c-2eee-4dfb-c5d0-8aa4e853bb16"
      },
      "execution_count": 18,
      "outputs": [
        {
          "output_type": "stream",
          "name": "stdout",
          "text": [
            "Requirement already satisfied: memory_profiler in /usr/local/lib/python3.11/dist-packages (0.61.0)\n",
            "Requirement already satisfied: psutil in /usr/local/lib/python3.11/dist-packages (from memory_profiler) (5.9.5)\n",
            "ERROR: Could not find file /tmp/ipython-input-18-1636917419.py\n"
          ]
        },
        {
          "output_type": "execute_result",
          "data": {
            "text/plain": [
              "[0]"
            ]
          },
          "metadata": {},
          "execution_count": 18
        }
      ]
    },
    {
      "cell_type": "code",
      "source": [
        "#Q.17 Write a Python program to create and write a list of numbers to a file, one number per line\n",
        "numbers = [1, 2, 3, 4, 5]\n",
        "with open(\"numbers.txt\", \"w\") as f:\n",
        "    for num in numbers:\n",
        "        f.write(f\"{num}\\n\")\n"
      ],
      "metadata": {
        "id": "la5E6mkjI_8L"
      },
      "execution_count": 19,
      "outputs": []
    },
    {
      "cell_type": "code",
      "source": [
        "#Q.18 How would you implement a basic logging setup that logs to a file with rotation after 1MB\n",
        "import logging\n",
        "from logging.handlers import RotatingFileHandler\n",
        "\n",
        "logger = logging.getLogger(\"my_logger\")\n",
        "logger.setLevel(logging.DEBUG)\n",
        "\n",
        "handler = RotatingFileHandler(\"rotating_log.txt\", maxBytes=1048576, backupCount=3)\n",
        "logger.addHandler(handler)\n",
        "logger.info(\"This is a test log message.\")\n"
      ],
      "metadata": {
        "colab": {
          "base_uri": "https://localhost:8080/"
        },
        "id": "fJMl6ZymJUK_",
        "outputId": "c739b659-d814-4ac5-f374-7a1d39d5dc6d"
      },
      "execution_count": 20,
      "outputs": [
        {
          "output_type": "stream",
          "name": "stderr",
          "text": [
            "INFO:my_logger:This is a test log message.\n"
          ]
        }
      ]
    },
    {
      "cell_type": "code",
      "source": [
        "#Q.19 Write a program that handles both IndexError and KeyError using a try-except block\n",
        "try:\n",
        "    lst = [1, 2]\n",
        "    print(lst[5])\n",
        "    d = {\"a\": 1}\n",
        "    print(d[\"b\"])\n",
        "except IndexError:\n",
        "    print(\"Index out of range\")\n",
        "except KeyError:\n",
        "    print(\"Key not found\")\n"
      ],
      "metadata": {
        "colab": {
          "base_uri": "https://localhost:8080/"
        },
        "id": "Z2ZrHnZtJWO1",
        "outputId": "191b58a6-ec87-417c-f41d-5c48cce277ca"
      },
      "execution_count": 21,
      "outputs": [
        {
          "output_type": "stream",
          "name": "stdout",
          "text": [
            "Index out of range\n"
          ]
        }
      ]
    },
    {
      "cell_type": "code",
      "source": [
        "#Q.20 How would you open a file and read its contents using a context manager in Python\n",
        "with open(\"example.txt\", \"r\") as f:\n",
        "    print(f.read())\n"
      ],
      "metadata": {
        "colab": {
          "base_uri": "https://localhost:8080/"
        },
        "id": "gR7t5LUgJkeh",
        "outputId": "4c90a831-cd85-41a7-d8eb-643036bdb86a"
      },
      "execution_count": 23,
      "outputs": [
        {
          "output_type": "stream",
          "name": "stdout",
          "text": [
            "Hello, this is a test string.\n",
            "Appended line.\n"
          ]
        }
      ]
    },
    {
      "cell_type": "code",
      "source": [
        "#Q.21 Write a Python program that reads a file and prints the number of occurrences of a specific word\n",
        "word = \"test\"\n",
        "count = 0\n",
        "with open(\"example.txt\", \"r\") as f:\n",
        "    for line in f:\n",
        "        count += line.lower().count(word)\n",
        "print(f\"The word '{word}' occurred {count} times.\")\n"
      ],
      "metadata": {
        "colab": {
          "base_uri": "https://localhost:8080/"
        },
        "id": "huYPI-DqJm_y",
        "outputId": "39ab3c3f-395d-4e64-8286-b919821ad07c"
      },
      "execution_count": 24,
      "outputs": [
        {
          "output_type": "stream",
          "name": "stdout",
          "text": [
            "The word 'test' occurred 1 times.\n"
          ]
        }
      ]
    },
    {
      "cell_type": "code",
      "source": [],
      "metadata": {
        "colab": {
          "base_uri": "https://localhost:8080/"
        },
        "id": "QQHeUbb8Jrhv",
        "outputId": "ff7708ed-2b31-49b9-b5e6-5bb78b6a264c"
      },
      "execution_count": 25,
      "outputs": [
        {
          "output_type": "stream",
          "name": "stdout",
          "text": [
            "Hello, this is a test string.\n",
            "Appended line.\n"
          ]
        }
      ]
    },
    {
      "cell_type": "code",
      "source": [
        "#Q.23 Write a Python program that writes to a log file when an error occurs during file handling\n",
        "import logging\n",
        "logging.basicConfig(filename=\"file_error_log.txt\", level=logging.ERROR)\n",
        "\n",
        "try:\n",
        "    with open(\"nonexistent.txt\", \"r\") as f:\n",
        "        data = f.read()\n",
        "except Exception as e:\n",
        "    logging.error(\"File handling error: %s\", e)\n"
      ],
      "metadata": {
        "colab": {
          "base_uri": "https://localhost:8080/"
        },
        "id": "ijfmiY59JtyE",
        "outputId": "75348a0f-9d13-43ea-bee8-05978f9223cf"
      },
      "execution_count": 26,
      "outputs": [
        {
          "output_type": "stream",
          "name": "stderr",
          "text": [
            "ERROR:root:File handling error: [Errno 2] No such file or directory: 'nonexistent.txt'\n"
          ]
        }
      ]
    },
    {
      "cell_type": "code",
      "source": [],
      "metadata": {
        "id": "JMi7GQVOJwai"
      },
      "execution_count": null,
      "outputs": []
    }
  ]
}